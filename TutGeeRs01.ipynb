{
 "cells": [
  {
   "cell_type": "code",
   "execution_count": 1,
   "metadata": {},
   "outputs": [
    {
     "name": "stdout",
     "output_type": "stream",
     "text": [
      "RiverSense\n"
     ]
    }
   ],
   "source": [
    "import os\n",
    "print(os.environ['CONDA_DEFAULT_ENV'])"
   ]
  },
  {
   "cell_type": "code",
   "execution_count": 2,
   "metadata": {},
   "outputs": [],
   "source": [
    "import geemap as emap\n",
    "import ee\n",
    "from IPython.display import Image\n",
    "import matplotlib.pyplot as plt\n",
    "import numpy as np"
   ]
  },
  {
   "cell_type": "code",
   "execution_count": 4,
   "metadata": {},
   "outputs": [
    {
     "data": {
      "text/html": [
       "<p>To authorize access needed by Earth Engine, open the following\n",
       "        URL in a web browser and follow the instructions:</p>\n",
       "        <p><a href=https://accounts.google.com/o/oauth2/auth?client_id=517222506229-vsmmajv00ul0bs7p89v5m89qs8eb9359.apps.googleusercontent.com&scope=https%3A%2F%2Fwww.googleapis.com%2Fauth%2Fearthengine+https%3A%2F%2Fwww.googleapis.com%2Fauth%2Fdevstorage.full_control&redirect_uri=urn%3Aietf%3Awg%3Aoauth%3A2.0%3Aoob&response_type=code&code_challenge=DcSpWawcGUkL4YRvSkGTuOolM32uB-wCl9k44ETyokA&code_challenge_method=S256>https://accounts.google.com/o/oauth2/auth?client_id=517222506229-vsmmajv00ul0bs7p89v5m89qs8eb9359.apps.googleusercontent.com&scope=https%3A%2F%2Fwww.googleapis.com%2Fauth%2Fearthengine+https%3A%2F%2Fwww.googleapis.com%2Fauth%2Fdevstorage.full_control&redirect_uri=urn%3Aietf%3Awg%3Aoauth%3A2.0%3Aoob&response_type=code&code_challenge=DcSpWawcGUkL4YRvSkGTuOolM32uB-wCl9k44ETyokA&code_challenge_method=S256</a></p>\n",
       "        <p>The authorization workflow will generate a code, which you\n",
       "        should paste in the box below</p>\n",
       "        "
      ],
      "text/plain": [
       "<IPython.core.display.HTML object>"
      ]
     },
     "metadata": {},
     "output_type": "display_data"
    },
    {
     "name": "stdout",
     "output_type": "stream",
     "text": [
      "Enter verification code: 4/3AHp5uHml91sqRO6fa-hWofYsr9Yq28pHVsdnYv5YgZ7w9JkCgYefUA\n",
      "\n",
      "Successfully saved authorization token.\n"
     ]
    }
   ],
   "source": [
    "# ee.Authenticate()"
   ]
  },
  {
   "cell_type": "code",
   "execution_count": 5,
   "metadata": {},
   "outputs": [],
   "source": [
    "ee.Initialize()"
   ]
  },
  {
   "cell_type": "code",
   "execution_count": 6,
   "metadata": {},
   "outputs": [],
   "source": [
    "(path_list, row_list, satellite, start_date, end_date, max_cloud_percentage) = ([16], \n",
    "                                                                                [30], \n",
    "                                                                                'LANDSAT/LC08/C01/T1_TOA', \n",
    "                                                                                '2013-05-01', '2020-05-01', \n",
    "                                                                                5)"
   ]
  },
  {
   "cell_type": "code",
   "execution_count": 7,
   "metadata": {},
   "outputs": [],
   "source": [
    "coll = ee.ImageCollection(satellite).filterDate(start_date, end_date)\\\n",
    "        .filter(ee.Filter.inList('WRS_PATH', path_list))\\\n",
    "        .filter(ee.Filter.inList('WRS_ROW', row_list))\\\n",
    "        .filter(ee.Filter.lt('CLOUD_COVER', max_cloud_percentage))\n",
    "image_ids = list(map(lambda x: x['id'], coll.getInfo()['features']))\n",
    "\n",
    "images = list(map(lambda x: ee.Image(x), image_ids))"
   ]
  },
  {
   "cell_type": "markdown",
   "metadata": {},
   "source": [
    "# Getting Interesting Slice\n",
    "Even though the scale in image from thumb url is different, the relative position of the objects in the scene will be same. $\\therefore$ get the position of the bounding rectangle w.r.t the fixed point. \n",
    "\n",
    "I have the following algorithm in mind:\n",
    "\n",
    "- (Do the pruning of features using Eigen Decomposition (or any PCA)).\n",
    "- Get the scenes with the least cloud cover $\\rightarrow$ Scenes.\n",
    "- Project it to the pixel space.\n",
    "- Get the Bounding rectangle in relative coordinates:\n",
    "- For Image in Scenes:\n",
    "    - Project the bounding rectangle in the lat/lon.\n",
    "    - Get the training Data Samples. (Can I use same trained model to segment all the Image ?)\n",
    "    - Get the region of interest.\n",
    "    - Split the image in K clusters.\n",
    "    - Get Average NDWI for each cluster, $kNdwi \\leftarrow \\{ Ndwi_i\\}_{i = 0}^{k}$\n",
    "    - $WaterCluster := argmax_{i}(kNDWI)$\n",
    "    - Vectorize WaterCluster to compute the $Area_{Image}$ by PixelCount.\n",
    "    - $AreaHistory \\leftarrow Area_{Image}$\n",
    "- Return AreaHistory\n",
    "\n",
    "## Points to Ponder:\n",
    "- How to measure accuracy of classification w/o external involvement?\n",
    "- "
   ]
  },
  {
   "cell_type": "code",
   "execution_count": 16,
   "metadata": {},
   "outputs": [
    {
     "data": {
      "text/plain": [
       "{'geodesic': False,\n",
       " 'type': 'Polygon',\n",
       " 'coordinates': [[[-78.45070344271478, 42.112163622924264],\n",
       "   [-75.58511912465933, 42.112163622924264],\n",
       "   [-75.58511912465933, 44.24236846087388],\n",
       "   [-78.45070344271478, 44.24236846087388],\n",
       "   [-78.45070344271478, 42.112163622924264]]]}"
      ]
     },
     "execution_count": 16,
     "metadata": {},
     "output_type": "execute_result"
    }
   ],
   "source": [
    "Map = emap.Map()\n",
    "\n",
    "Img = images[0].select(['B7'])\n",
    "Region         = Img.geometry().bounds().getInfo()\n",
    "Region"
   ]
  },
  {
   "cell_type": "code",
   "execution_count": 14,
   "metadata": {},
   "outputs": [
    {
     "data": {
      "application/vnd.jupyter.widget-view+json": {
       "model_id": "3806511683d14584b8a74ead8d6e7811",
       "version_major": 2,
       "version_minor": 0
      },
      "text/plain": [
       "Map(center=[42.77726604189907, -77.31791128368705], controls=(WidgetControl(options=['position'], widget=HBox(…"
      ]
     },
     "metadata": {},
     "output_type": "display_data"
    }
   ],
   "source": [
    "Map.addLayer((Img), {'min': 0, 'max': 0.05, 'opacity':0.95}, 'Base')\n",
    "\n",
    "Map.setCenter(lon=(RoiBound[0] + RoiBound[2])/2, \n",
    "              lat=(RoiBound[1] + RoiBound[3])/2, \n",
    "              zoom=9)\n",
    "Map"
   ]
  },
  {
   "cell_type": "code",
   "execution_count": 16,
   "metadata": {},
   "outputs": [
    {
     "name": "stdout",
     "output_type": "stream",
     "text": [
      "commit 2f9e011a6d7e0ac21d5df913be7cf54cc02e0cad\n",
      "Author: PrabhakarMNaik <pmn2119@columbia.edu>\n",
      "Date:   Thu Aug 20 10:00:55 2020 -0400\n",
      "\n",
      "    string\n",
      "\n",
      "commit ff2d50444c003d51b223f0698606d5bed92b494b\n",
      "Author: PrabhakarMNaik <pmn2119@columbia.edu>\n",
      "Date:   Thu Aug 20 09:50:56 2020 -0400\n",
      "\n",
      "    Second Commit, adding TutGeeRs\n",
      "\n",
      "commit 30e52ba17631e7e133f272fa7d912c35dae921c5\n",
      "Author: PrabhakarMNaik <pmn2119@columbia.edu>\n",
      "Date:   Thu Aug 20 09:35:02 2020 -0400\n",
      "\n",
      "    First Commit, adding TutGeeRs\n"
     ]
    }
   ],
   "source": [
    "!git log"
   ]
  },
  {
   "cell_type": "code",
   "execution_count": 16,
   "metadata": {},
   "outputs": [
    {
     "name": "stdout",
     "output_type": "stream",
     "text": [
      "Appended\n",
      "Appended\n",
      "Appended\n",
      "Appended\n",
      "Appended\n",
      "Appended\n",
      "Appended\n",
      "Appended\n",
      "Appended\n",
      "Appended\n"
     ]
    },
    {
     "data": {
      "text/plain": [
       "[<matplotlib.lines.Line2D at 0x1cb79406ec8>]"
      ]
     },
     "execution_count": 16,
     "metadata": {},
     "output_type": "execute_result"
    },
    {
     "data": {
      "image/png": "[encoded data removed]",
      "text/plain": [
       "<Figure size 432x288 with 1 Axes>"
      ]
     },
     "metadata": {
      "needs_background": "light"
     },
     "output_type": "display_data"
    }
   ],
   "source": [
    "Map = emap.Map()\n",
    "LakeArea = []\n",
    "WaterImages = []\n",
    "count = 0\n",
    "for image in images:\n",
    "    count +=1\n",
    "    Img = image.select(['B1', 'B2', 'B3', 'B4', 'B5', 'B6', 'B7', 'B9', 'B10', 'B11', 'BQA'])\n",
    "\n",
    "#     Map            = emap.Map()\n",
    "    Region         = Img.geometry().bounds().getInfo()\n",
    "\n",
    "    Offset         = [-1, -0.40, 1.45, 1.15]\n",
    "    Bound          = [Region['coordinates'][0][0][0],\n",
    "                      Region['coordinates'][0][0][1], \n",
    "                      Region['coordinates'][0][2][0],\n",
    "                      Region['coordinates'][0][2][1]]\n",
    "    RoiBound       = [Bound[i] - Offset[i] for i in range(4)]\n",
    "    Roi            = ee.Geometry.Rectangle(RoiBound)\n",
    "    TrainingRegion = ee.Geometry.Rectangle(Bound)\n",
    "#     Map.addLayer(Roi, {'color': 'yellow'}, 'Roi')\n",
    "#     Map.addLayer(TrainingRegion, {'color': '000000'}, 'Training')\n",
    "#     Map.addLayer(Img, {'min': 0, 'max': 1, 'opacity':0.95}, 'Base')\n",
    "\n",
    "# Map\n",
    "\n",
    "    Training       = Img.sample(region = TrainingRegion,\n",
    "                            scale = 30.0, \n",
    "                            numPixels = 750)\n",
    "\n",
    "    NumCluster     = 3\n",
    "    Clusterer      = ee.Clusterer.wekaKMeans(NumCluster).train(Training)\n",
    "    #     Img            = Img.clip(Roi)\n",
    "    Clusters       = Img.cluster(Clusterer).clip(Roi)\n",
    "\n",
    "    water          = Clusters.select(\"cluster\").eq(2).selfMask()\n",
    "    WaterImages.append(water)\n",
    "\n",
    "    Map.addLayer(water,\n",
    "                 {'min': 0, \n",
    "                  'max': NumCluster, \n",
    "                  'palette': ['red'], \n",
    "                  'opacity':0.95},\n",
    "                 str(count))\n",
    "\n",
    "    #     Map.add_ee_layer(Clusters, \n",
    "    #                      {'min': 0, \n",
    "    #                       'max': NumCluster, \n",
    "    #                       'palette': ['white', 'green', 'blue'], \n",
    "    #                       'opacity':0.95}, \n",
    "    #                      'clustering')\n",
    "\n",
    "    area_water = water.multiply(ee.Image.pixelArea()).divide(1000*1000)\n",
    "\n",
    "    areas = area_water.reduceRegion(reducer  =ee.Reducer.sum(),\n",
    "                                    geometry = Roi,\n",
    "                                    scale    = 30, \n",
    "                                    maxPixels= 1e13)\n",
    "    LakeArea.append(areas.getInfo()['cluster'])\n",
    "    print('Appended')\n",
    "\n",
    "plt.plot(LakeArea, 's')"
   ]
  },
  {
   "cell_type": "code",
   "execution_count": 19,
   "metadata": {},
   "outputs": [
    {
     "name": "stderr",
     "output_type": "stream",
     "text": [
      "warning: LF will be replaced by CRLF in TutGeeRs01.ipynb.\n",
      "The file will have its original line endings in your working directory\n"
     ]
    },
    {
     "name": "stdout",
     "output_type": "stream",
     "text": [
      "[master 7f814b5] Algorithm Added\n",
      " 1 file changed, 66 insertions(+), 35 deletions(-)\n",
      "On branch master\n",
      "Untracked files:\n",
      "  (use \"git add <file>...\" to include in what will be committed)\n",
      "\t.ipynb_checkpoints/\n",
      "\tLANDSAT_8_C1_432396.txt\n",
      "\tScratchPad.ipynb\n",
      "\tUntitled1.ipynb\n",
      "\n",
      "nothing added to commit but untracked files present (use \"git add\" to track)\n"
     ]
    }
   ],
   "source": [
    "!git add TutGeeRs01.ipynb\n",
    "!git commit -m \"Algorithm Added\"\n",
    "!git status"
   ]
  },
  {
   "cell_type": "code",
   "execution_count": 25,
   "metadata": {},
   "outputs": [
    {
     "name": "stderr",
     "output_type": "stream",
     "text": [
      "warning: no common commits\n",
      "From https://github.com/PrabhakarMNaik/RiverSense\n",
      " * [new branch]      master     -> origin/master\n",
      "There is no tracking information for the current branch.\n",
      "Please specify which branch you want to merge with.\n",
      "See git-pull(1) for details.\n",
      "\n",
      "    git pull <remote> <branch>\n",
      "\n",
      "If you wish to set tracking information for this branch you can do so with:\n",
      "\n",
      "    git branch --set-upstream-to=origin/<branch> master\n",
      "\n"
     ]
    }
   ],
   "source": [
    "# !git remote add origin https://github.com/PrabhakarMNaik/WaterSense.git\n",
    "!git pull "
   ]
  },
  {
   "cell_type": "code",
   "execution_count": 26,
   "metadata": {},
   "outputs": [
    {
     "name": "stderr",
     "output_type": "stream",
     "text": [
      "To https://github.com/PrabhakarMNaik/RiverSense.git\n",
      " ! [rejected]        master -> master (non-fast-forward)\n",
      "error: failed to push some refs to 'https://github.com/PrabhakarMNaik/RiverSense.git'\n",
      "hint: Updates were rejected because the tip of your current branch is behind\n",
      "hint: its remote counterpart. Integrate the remote changes (e.g.\n",
      "hint: 'git pull ...') before pushing again.\n",
      "hint: See the 'Note about fast-forwards' in 'git push --help' for details.\n"
     ]
    }
   ],
   "source": [
    "!git push origin master"
   ]
  },
  {
   "cell_type": "code",
   "execution_count": null,
   "metadata": {},
   "outputs": [],
   "source": []
  }
 ],
 "metadata": {
  "celltoolbar": "Raw Cell Format",
  "kernelspec": {
   "display_name": "Python 3",
   "language": "python",
   "name": "python3"
  },
  "language_info": {
   "codemirror_mode": {
    "name": "ipython",
    "version": 3
   },
   "file_extension": ".py",
   "mimetype": "text/x-python",
   "name": "python",
   "nbconvert_exporter": "python",
   "pygments_lexer": "ipython3",
   "version": "3.7.6"
  }
 },
 "nbformat": 4,
 "nbformat_minor": 4
}
